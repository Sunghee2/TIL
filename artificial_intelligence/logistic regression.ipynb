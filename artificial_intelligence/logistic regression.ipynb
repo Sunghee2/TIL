{
 "cells": [
  {
   "cell_type": "code",
   "execution_count": 3,
   "metadata": {},
   "outputs": [],
   "source": [
    "from sklearn.datasets import load_files\n",
    "\n",
    "# 데이터 로드\n",
    "reviews_train = load_files(\"./data/aclImdb/train\")\n",
    "reviews_test = load_files(\"./data/aclImdb/test\")"
   ]
  },
  {
   "cell_type": "code",
   "execution_count": 4,
   "metadata": {},
   "outputs": [],
   "source": [
    "text_train, y_train = reviews_train.data, reviews_train.target\n",
    "text_test, y_test = reviews_test.data, reviews_test.target\n",
    "\n",
    "# data에서 개행문자 삭제\n",
    "text_train = [doc.replace(b\"<br />\", b\" \") for doc in text_train]\n",
    "text_test = [doc.replace(b\"<br />\", b\" \") for doc in text_test]"
   ]
  },
  {
   "cell_type": "code",
   "execution_count": 7,
   "metadata": {},
   "outputs": [
    {
     "name": "stdout",
     "output_type": "stream",
     "text": [
      "정답률 =  0.86672\n"
     ]
    }
   ],
   "source": [
    "# Logistic Regression을 사용한 classification\n",
    "from sklearn import metrics\n",
    "from sklearn.feature_extraction.text import CountVectorizer\n",
    "from sklearn.linear_model import LogisticRegression\n",
    "\n",
    "vect = CountVectorizer().fit(text_train)\n",
    "X_train = vect.transform(text_train)\n",
    "X_test = vect.transform(text_test)\n",
    "\n",
    "clf = LogisticRegression()\n",
    "clf.fit(X_train, y_train)\n",
    "pre = clf.predict(X_test)\n",
    "\n",
    "ac_score = metrics.accuracy_score(y_test, pre)\n",
    "print(\"정답률 = \", ac_score)"
   ]
  },
  {
   "cell_type": "code",
   "execution_count": 9,
   "metadata": {},
   "outputs": [
    {
     "name": "stderr",
     "output_type": "stream",
     "text": [
      "/anaconda3/lib/python3.6/site-packages/sklearn/linear_model/logistic.py:433: FutureWarning: Default solver will be changed to 'lbfgs' in 0.22. Specify a solver to silence this warning.\n",
      "  FutureWarning)\n"
     ]
    },
    {
     "name": "stdout",
     "output_type": "stream",
     "text": [
      "Accuracy =  [0.8824 0.876  0.8822 0.8884 0.8776]\n",
      "Average Accuracy =  0.88132\n"
     ]
    }
   ],
   "source": [
    "# Logistic Regression with Cross Validation\n",
    "from sklearn.linear_model import LogisticRegression\n",
    "from sklearn import model_selection\n",
    "\n",
    "# logistic regression을 이용\n",
    "clf = LogisticRegression()\n",
    "\n",
    "# 학습 데이터만을 사용하여 cross validation\n",
    "scores = model_selection.cross_val_score(clf, X_train, y_train, cv = 5)\n",
    "\n",
    "print(\"Accuracy = \", scores)\n",
    "print(\"Average Accuracy = \", scores.mean())"
   ]
  },
  {
   "cell_type": "code",
   "execution_count": 11,
   "metadata": {},
   "outputs": [
    {
     "name": "stdout",
     "output_type": "stream",
     "text": [
      "Accuracy =  [0.843  0.8388 0.8488 0.846  0.838 ]\n",
      "Average Accuracy =  0.84\n"
     ]
    }
   ],
   "source": [
    "# 차원 축소, BOW로 학습 및 테스트 데이터 생성\n",
    "vect = CountVectorizer(min_df=5, max_df=1000).fit(text_train)\n",
    "X_train = vect.transform(text_train)\n",
    "X_test = vect.transform(text_test)\n",
    "\n",
    "clf = LogisticRegression(solver=\"sag\", max_iter=10000)\n",
    "clf.fit(X_train, y_train)\n",
    "pre = clf.predict(X_test)\n",
    "\n",
    "scores = model_selection.cross_val_score(clf, X_train, y_train, cv=5)\n",
    "\n",
    "print(\"Accuracy = \", scores)\n",
    "print(\"Average Accuracy = \", \"%.2f\"%scores.mean())"
   ]
  }
 ],
 "metadata": {
  "kernelspec": {
   "display_name": "Python 3",
   "language": "python",
   "name": "python3"
  },
  "language_info": {
   "codemirror_mode": {
    "name": "ipython",
    "version": 3
   },
   "file_extension": ".py",
   "mimetype": "text/x-python",
   "name": "python",
   "nbconvert_exporter": "python",
   "pygments_lexer": "ipython3",
   "version": "3.6.8"
  }
 },
 "nbformat": 4,
 "nbformat_minor": 2
}
